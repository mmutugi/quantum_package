{
 "cells": [
  {
   "cell_type": "code",
   "execution_count": null,
   "metadata": {},
   "outputs": [],
   "source": [
    "#!/usr/bin/env python3\n",
    "\n",
    "import sys\n",
    "from ezfio import ezfio\n",
    "\n",
    "def read_ezfio(filename, output_file):\n",
    "    ezfio.set_file(filename)\n",
    "    \n",
    "    \n",
    "    psi_coeff = ezfio.get_determinants_psi_coef()[0]  \n",
    "    psi_det = ezfio.get_determinants_psi_det()\n",
    "\n",
    "    alpha_beta_det = []\n",
    "\n",
    "    #loop\n",
    "    for i, det_pair in enumerate(psi_det):\n",
    "        try:\n",
    "            alpha_det = det_pair[0]  \n",
    "            beta_det = det_pair[1]   \n",
    "            psi_coef = psi_coeff[i]  \n",
    "\n",
    "            \n",
    "            alpha_det_binary = ''.join([bin(det) for det in alpha_det])  \n",
    "            beta_det_binary = ''.join([bin(det) for det in beta_det])    \n",
    "\n",
    "            #for appending the data\n",
    "            alpha_beta_det.append([alpha_det_binary, beta_det_binary, psi_coef])\n",
    "\n",
    "        except IndexError:\n",
    "            print(f\"Warning: Index error at i={i}, check your data alignment.\")\n",
    "            break\n",
    "\n",
    "   \n",
    "    with open(output_file, 'w') as f:\n",
    "        f.write(f\"{'Alpha det':<20} {'Beta det':<20} {'Psi_coefficients':<20}\\n\")\n",
    "        f.write(f\"{'-'*20} {'-'*20} {'-'*20}\\n\")\n",
    "        \n",
    "        for alpha_det, beta_det, psi_coef in alpha_beta_det:\n",
    "            f.write(f\"{alpha_det:<20} {beta_det:<20} {psi_coef:<20.16f}\\n\")\n",
    "\n",
    "    print(f\"success writing in {output_file}\")\n",
    "\n",
    "if __name__ == \"__main__\":\n",
    "    if len(sys.argv) != 3:\n",
    "        print(\"Usage: python script.py <input_ezfio_file> <output_file>\")\n",
    "    else:\n",
    "        input_file = sys.argv[1]\n",
    "        output_file = sys.argv[2]\n",
    "        read_ezfio(input_file, output_file)\n"
   ]
  }
 ],
 "metadata": {
  "language_info": {
   "name": "python"
  }
 },
 "nbformat": 4,
 "nbformat_minor": 2
}
